{
  "nbformat": 4,
  "nbformat_minor": 0,
  "metadata": {
    "colab": {
      "name": "avalia_imovel_terreno.ipynb",
      "provenance": []
    },
    "kernelspec": {
      "name": "python3",
      "display_name": "Python 3"
    }
  },
  "cells": [
    {
      "cell_type": "markdown",
      "metadata": {
        "id": "OAB9XNeIa5o4"
      },
      "source": [
        "#Modelo de Machine Learning em Python para Avaliação de Imóveis.\n",
        "##Desenvolvido por Flávio Cardoso\n",
        "##Utiliza alguns algoritmos de Machine Learnig para ao final escolher o que tem melhor performance.\n",
        "##Depois utiliza um modelo de AutoML (H2o) para efeito de comparação com os modelos testatos anteriormente\n",
        "##Utiliza como dados de entrada o banco de dados de 2016 a 2020, obtido através do trabalho de vistoria de imóveis pelos engenheiros credenciados à Caixa Econômica, que são compilados pela Caixa e devolvido aos mesmo engenheiros para uso em trabalho de avaliação para a Caixa.\n",
        "##Utiliza também como dado de entrada um arquivo do imóvel a ser avaliado\n",
        "\n"
      ]
    },
    {
      "cell_type": "markdown",
      "metadata": {
        "id": "_3kDWxUBcRfl"
      },
      "source": [
        "##Instala bibliotecas necessárias"
      ]
    },
    {
      "cell_type": "code",
      "metadata": {
        "id": "J7kKrUuZ-DvI"
      },
      "source": [
        "#!pip install h2o\n",
        "\n",
        "#! pip install https://github.com/pandas-profiling/pandas-profiling/archive/master.zip"
      ],
      "execution_count": 17,
      "outputs": []
    },
    {
      "cell_type": "markdown",
      "metadata": {
        "id": "2aW5_wRKcXbb"
      },
      "source": [
        "##Importa as bibliotecas que serão utilizadas"
      ]
    },
    {
      "cell_type": "code",
      "metadata": {
        "colab": {
          "base_uri": "https://localhost:8080/",
          "height": 320
        },
        "id": "UfE42J8U8PTm",
        "outputId": "d6dbffd1-12b8-4e69-a769-c7e9df6b7158"
      },
      "source": [
        "import pandas as pd\n",
        "import matplotlib.pyplot as plt\n",
        "import seaborn as sns\n",
        "import h2o\n",
        "from h2o.automl import H2OAutoML\n",
        "h2o.init()\n",
        "import numpy as np\n",
        "from sklearn.model_selection import train_test_split\n",
        "\n",
        "from scipy import stats\n",
        "from pandas_profiling import ProfileReport\n",
        "\n",
        "from sklearn.ensemble import IsolationForest,RandomForestRegressor,GradientBoostingRegressor\n",
        "from sklearn.neighbors import KNeighborsRegressor\n",
        "\n",
        "\n",
        "from sklearn.covariance import EllipticEnvelope\n",
        "from sklearn.neighbors import LocalOutlierFactor\n",
        "from sklearn.linear_model import LinearRegression\n",
        "from sklearn.preprocessing import StandardScaler\n",
        "from sklearn.metrics import mean_absolute_error, r2_score\n",
        "from sklearn.tree import DecisionTreeRegressor\n",
        "\n",
        "\n"
      ],
      "execution_count": 18,
      "outputs": [
        {
          "output_type": "stream",
          "text": [
            "Checking whether there is an H2O instance running at http://localhost:54321 . connected.\n"
          ],
          "name": "stdout"
        },
        {
          "output_type": "display_data",
          "data": {
            "text/html": [
              "<div style=\"overflow:auto\"><table style=\"width:50%\"><tr><td>H2O_cluster_uptime:</td>\n",
              "<td>58 secs</td></tr>\n",
              "<tr><td>H2O_cluster_timezone:</td>\n",
              "<td>Etc/UTC</td></tr>\n",
              "<tr><td>H2O_data_parsing_timezone:</td>\n",
              "<td>UTC</td></tr>\n",
              "<tr><td>H2O_cluster_version:</td>\n",
              "<td>3.32.0.4</td></tr>\n",
              "<tr><td>H2O_cluster_version_age:</td>\n",
              "<td>20 days </td></tr>\n",
              "<tr><td>H2O_cluster_name:</td>\n",
              "<td>H2O_from_python_unknownUser_xr94ql</td></tr>\n",
              "<tr><td>H2O_cluster_total_nodes:</td>\n",
              "<td>1</td></tr>\n",
              "<tr><td>H2O_cluster_free_memory:</td>\n",
              "<td>3.180 Gb</td></tr>\n",
              "<tr><td>H2O_cluster_total_cores:</td>\n",
              "<td>2</td></tr>\n",
              "<tr><td>H2O_cluster_allowed_cores:</td>\n",
              "<td>2</td></tr>\n",
              "<tr><td>H2O_cluster_status:</td>\n",
              "<td>locked, healthy</td></tr>\n",
              "<tr><td>H2O_connection_url:</td>\n",
              "<td>http://localhost:54321</td></tr>\n",
              "<tr><td>H2O_connection_proxy:</td>\n",
              "<td>{\"http\": null, \"https\": null}</td></tr>\n",
              "<tr><td>H2O_internal_security:</td>\n",
              "<td>False</td></tr>\n",
              "<tr><td>H2O_API_Extensions:</td>\n",
              "<td>Amazon S3, XGBoost, Algos, AutoML, Core V3, TargetEncoder, Core V4</td></tr>\n",
              "<tr><td>Python_version:</td>\n",
              "<td>3.6.9 final</td></tr></table></div>"
            ],
            "text/plain": [
              "--------------------------  ------------------------------------------------------------------\n",
              "H2O_cluster_uptime:         58 secs\n",
              "H2O_cluster_timezone:       Etc/UTC\n",
              "H2O_data_parsing_timezone:  UTC\n",
              "H2O_cluster_version:        3.32.0.4\n",
              "H2O_cluster_version_age:    20 days\n",
              "H2O_cluster_name:           H2O_from_python_unknownUser_xr94ql\n",
              "H2O_cluster_total_nodes:    1\n",
              "H2O_cluster_free_memory:    3.180 Gb\n",
              "H2O_cluster_total_cores:    2\n",
              "H2O_cluster_allowed_cores:  2\n",
              "H2O_cluster_status:         locked, healthy\n",
              "H2O_connection_url:         http://localhost:54321\n",
              "H2O_connection_proxy:       {\"http\": null, \"https\": null}\n",
              "H2O_internal_security:      False\n",
              "H2O_API_Extensions:         Amazon S3, XGBoost, Algos, AutoML, Core V3, TargetEncoder, Core V4\n",
              "Python_version:             3.6.9 final\n",
              "--------------------------  ------------------------------------------------------------------"
            ]
          },
          "metadata": {
            "tags": []
          }
        }
      ]
    },
    {
      "cell_type": "markdown",
      "metadata": {
        "id": "YfgcQw3Xcc5s"
      },
      "source": [
        "##Abre o arquivo contendo os dados do imóvel avaliando"
      ]
    },
    {
      "cell_type": "code",
      "metadata": {
        "colab": {
          "base_uri": "https://localhost:8080/",
          "height": 406
        },
        "id": "5m4vIJne4LwQ",
        "outputId": "cdea9907-b3c1-4d60-e90f-345b9d17fa48"
      },
      "source": [
        "path='/content/Terreno_Ago16-Set20+Pesquisa-Fortaleza-Python.xls'\n",
        "tipo=path[9:13]\n",
        "\n",
        "df = pd.read_excel(path,sheet_name='Dados')\n",
        "#df=df.drop(['Endereço','Bairro','Complemento','Informante','Telefone','Municipio'],axis=1)\n",
        "df\n"
      ],
      "execution_count": 19,
      "outputs": [
        {
          "output_type": "execute_result",
          "data": {
            "text/html": [
              "<div>\n",
              "<style scoped>\n",
              "    .dataframe tbody tr th:only-of-type {\n",
              "        vertical-align: middle;\n",
              "    }\n",
              "\n",
              "    .dataframe tbody tr th {\n",
              "        vertical-align: top;\n",
              "    }\n",
              "\n",
              "    .dataframe thead th {\n",
              "        text-align: right;\n",
              "    }\n",
              "</style>\n",
              "<table border=\"1\" class=\"dataframe\">\n",
              "  <thead>\n",
              "    <tr style=\"text-align: right;\">\n",
              "      <th></th>\n",
              "      <th>Latitude</th>\n",
              "      <th>Longitude</th>\n",
              "      <th>Area</th>\n",
              "      <th>Testada</th>\n",
              "      <th>Oferta/Trans</th>\n",
              "      <th>Esq-SN</th>\n",
              "      <th>Renda Media Domic</th>\n",
              "      <th>Valor Unitario</th>\n",
              "    </tr>\n",
              "  </thead>\n",
              "  <tbody>\n",
              "    <tr>\n",
              "      <th>0</th>\n",
              "      <td>-3.738982</td>\n",
              "      <td>-38.554722</td>\n",
              "      <td>108.0</td>\n",
              "      <td>4.50000</td>\n",
              "      <td>1</td>\n",
              "      <td>1</td>\n",
              "      <td>2468.55</td>\n",
              "      <td>1666.67</td>\n",
              "    </tr>\n",
              "    <tr>\n",
              "      <th>1</th>\n",
              "      <td>-3.798333</td>\n",
              "      <td>-38.538889</td>\n",
              "      <td>156.0</td>\n",
              "      <td>6.00000</td>\n",
              "      <td>2</td>\n",
              "      <td>1</td>\n",
              "      <td>3575.48</td>\n",
              "      <td>846.15</td>\n",
              "    </tr>\n",
              "    <tr>\n",
              "      <th>2</th>\n",
              "      <td>-3.835833</td>\n",
              "      <td>-38.587778</td>\n",
              "      <td>168.0</td>\n",
              "      <td>6.00000</td>\n",
              "      <td>2</td>\n",
              "      <td>1</td>\n",
              "      <td>1186.33</td>\n",
              "      <td>892.86</td>\n",
              "    </tr>\n",
              "    <tr>\n",
              "      <th>3</th>\n",
              "      <td>-3.736248</td>\n",
              "      <td>-38.556050</td>\n",
              "      <td>200.0</td>\n",
              "      <td>7.00000</td>\n",
              "      <td>1</td>\n",
              "      <td>1</td>\n",
              "      <td>3379.20</td>\n",
              "      <td>1125.00</td>\n",
              "    </tr>\n",
              "    <tr>\n",
              "      <th>4</th>\n",
              "      <td>-3.819016</td>\n",
              "      <td>-38.555054</td>\n",
              "      <td>200.0</td>\n",
              "      <td>8.00000</td>\n",
              "      <td>2</td>\n",
              "      <td>1</td>\n",
              "      <td>3069.60</td>\n",
              "      <td>740.00</td>\n",
              "    </tr>\n",
              "    <tr>\n",
              "      <th>...</th>\n",
              "      <td>...</td>\n",
              "      <td>...</td>\n",
              "      <td>...</td>\n",
              "      <td>...</td>\n",
              "      <td>...</td>\n",
              "      <td>...</td>\n",
              "      <td>...</td>\n",
              "      <td>...</td>\n",
              "    </tr>\n",
              "    <tr>\n",
              "      <th>99</th>\n",
              "      <td>-3.864366</td>\n",
              "      <td>-38.486186</td>\n",
              "      <td>14904.0</td>\n",
              "      <td>122.08194</td>\n",
              "      <td>2</td>\n",
              "      <td>2</td>\n",
              "      <td>953.23</td>\n",
              "      <td>100.64</td>\n",
              "    </tr>\n",
              "    <tr>\n",
              "      <th>100</th>\n",
              "      <td>-3.850029</td>\n",
              "      <td>-38.504641</td>\n",
              "      <td>16236.0</td>\n",
              "      <td>33.00000</td>\n",
              "      <td>1</td>\n",
              "      <td>1</td>\n",
              "      <td>1113.58</td>\n",
              "      <td>172.46</td>\n",
              "    </tr>\n",
              "    <tr>\n",
              "      <th>101</th>\n",
              "      <td>-3.832522</td>\n",
              "      <td>-38.582604</td>\n",
              "      <td>16532.0</td>\n",
              "      <td>133.00000</td>\n",
              "      <td>2</td>\n",
              "      <td>2</td>\n",
              "      <td>1082.50</td>\n",
              "      <td>211.71</td>\n",
              "    </tr>\n",
              "    <tr>\n",
              "      <th>102</th>\n",
              "      <td>-3.822003</td>\n",
              "      <td>-38.577955</td>\n",
              "      <td>29500.0</td>\n",
              "      <td>110.00000</td>\n",
              "      <td>2</td>\n",
              "      <td>2</td>\n",
              "      <td>732.72</td>\n",
              "      <td>328.81</td>\n",
              "    </tr>\n",
              "    <tr>\n",
              "      <th>103</th>\n",
              "      <td>-3.867639</td>\n",
              "      <td>-38.512500</td>\n",
              "      <td>36000.0</td>\n",
              "      <td>189.73666</td>\n",
              "      <td>2</td>\n",
              "      <td>1</td>\n",
              "      <td>1323.18</td>\n",
              "      <td>400.00</td>\n",
              "    </tr>\n",
              "  </tbody>\n",
              "</table>\n",
              "<p>104 rows × 8 columns</p>\n",
              "</div>"
            ],
            "text/plain": [
              "     Latitude  Longitude     Area  ...  Esq-SN  Renda Media Domic  Valor Unitario\n",
              "0   -3.738982 -38.554722    108.0  ...       1            2468.55         1666.67\n",
              "1   -3.798333 -38.538889    156.0  ...       1            3575.48          846.15\n",
              "2   -3.835833 -38.587778    168.0  ...       1            1186.33          892.86\n",
              "3   -3.736248 -38.556050    200.0  ...       1            3379.20         1125.00\n",
              "4   -3.819016 -38.555054    200.0  ...       1            3069.60          740.00\n",
              "..        ...        ...      ...  ...     ...                ...             ...\n",
              "99  -3.864366 -38.486186  14904.0  ...       2             953.23          100.64\n",
              "100 -3.850029 -38.504641  16236.0  ...       1            1113.58          172.46\n",
              "101 -3.832522 -38.582604  16532.0  ...       2            1082.50          211.71\n",
              "102 -3.822003 -38.577955  29500.0  ...       2             732.72          328.81\n",
              "103 -3.867639 -38.512500  36000.0  ...       1            1323.18          400.00\n",
              "\n",
              "[104 rows x 8 columns]"
            ]
          },
          "metadata": {
            "tags": []
          },
          "execution_count": 19
        }
      ]
    },
    {
      "cell_type": "markdown",
      "metadata": {
        "id": "WJGRVFXrcj4g"
      },
      "source": [
        "##Abre o banco de dados de Imóveis, neste caso de casas. "
      ]
    },
    {
      "cell_type": "code",
      "metadata": {
        "colab": {
          "base_uri": "https://localhost:8080/",
          "height": 77
        },
        "id": "DiGZ4_CQCfwe",
        "outputId": "4d664a9c-4408-4b22-9089-b2035797ca13"
      },
      "source": [
        "x_imovel=pd.read_excel('/content/Terreno_Ago16-Set20+Pesquisa-Fortaleza-Python.xls',sheet_name='Terreno')\n",
        "#x_imovel=x_imovel.drop(['Endereço','Bairro','Complemento','Informante','Telefone','Municipio'],axis=1)\n",
        "x_imovel.head()"
      ],
      "execution_count": 20,
      "outputs": [
        {
          "output_type": "execute_result",
          "data": {
            "text/html": [
              "<div>\n",
              "<style scoped>\n",
              "    .dataframe tbody tr th:only-of-type {\n",
              "        vertical-align: middle;\n",
              "    }\n",
              "\n",
              "    .dataframe tbody tr th {\n",
              "        vertical-align: top;\n",
              "    }\n",
              "\n",
              "    .dataframe thead th {\n",
              "        text-align: right;\n",
              "    }\n",
              "</style>\n",
              "<table border=\"1\" class=\"dataframe\">\n",
              "  <thead>\n",
              "    <tr style=\"text-align: right;\">\n",
              "      <th></th>\n",
              "      <th>Latitude</th>\n",
              "      <th>Longitude</th>\n",
              "      <th>Area</th>\n",
              "      <th>Testada</th>\n",
              "      <th>Oferta/Trans</th>\n",
              "      <th>Esq-SN</th>\n",
              "      <th>Renda Media Domic</th>\n",
              "      <th>Valor Unitario</th>\n",
              "    </tr>\n",
              "  </thead>\n",
              "  <tbody>\n",
              "    <tr>\n",
              "      <th>0</th>\n",
              "      <td>-3.7948</td>\n",
              "      <td>-38.469985</td>\n",
              "      <td>3200</td>\n",
              "      <td>80</td>\n",
              "      <td>1</td>\n",
              "      <td>2</td>\n",
              "      <td>1902</td>\n",
              "      <td>1666</td>\n",
              "    </tr>\n",
              "  </tbody>\n",
              "</table>\n",
              "</div>"
            ],
            "text/plain": [
              "   Latitude  Longitude  Area  ...  Esq-SN  Renda Media Domic  Valor Unitario\n",
              "0   -3.7948 -38.469985  3200  ...       2               1902            1666\n",
              "\n",
              "[1 rows x 8 columns]"
            ]
          },
          "metadata": {
            "tags": []
          },
          "execution_count": 20
        }
      ]
    },
    {
      "cell_type": "markdown",
      "metadata": {
        "id": "X3VrzF3GdB6_"
      },
      "source": [
        "##Informe o município onde se localiza o imóvel avaliando e filtra o dataframe para conter apenas dados deste município"
      ]
    },
    {
      "cell_type": "code",
      "metadata": {
        "id": "0oaVTKfg56QV"
      },
      "source": [
        "#municipio = \"ITAITINGA\"\n",
        "#df=df[(df.Municipio == municipio)]\n",
        "#df"
      ],
      "execution_count": 21,
      "outputs": []
    },
    {
      "cell_type": "markdown",
      "metadata": {
        "id": "xheEcgmJdcxM"
      },
      "source": [
        "##Converte casas decimais com vírgula para ponto de alguns atributos"
      ]
    },
    {
      "cell_type": "code",
      "metadata": {
        "id": "Oek_euBwDYfV",
        "colab": {
          "base_uri": "https://localhost:8080/",
          "height": 406
        },
        "outputId": "59114f9c-1b61-493d-b83d-5f30faacdd00"
      },
      "source": [
        "df['Latitude']=df['Latitude'].astype(str)\n",
        "df['Latitude']=df['Latitude'].str.replace(',','.')\n",
        "df['Latitude']=df['Latitude'].astype(float)\n",
        "\n",
        "df['Longitude']=df['Longitude'].astype(str)\n",
        "df['Longitude']=df['Longitude'].str.replace(',','.')\n",
        "df['Longitude']=df['Longitude'].astype(float)\n",
        "df"
      ],
      "execution_count": 22,
      "outputs": [
        {
          "output_type": "execute_result",
          "data": {
            "text/html": [
              "<div>\n",
              "<style scoped>\n",
              "    .dataframe tbody tr th:only-of-type {\n",
              "        vertical-align: middle;\n",
              "    }\n",
              "\n",
              "    .dataframe tbody tr th {\n",
              "        vertical-align: top;\n",
              "    }\n",
              "\n",
              "    .dataframe thead th {\n",
              "        text-align: right;\n",
              "    }\n",
              "</style>\n",
              "<table border=\"1\" class=\"dataframe\">\n",
              "  <thead>\n",
              "    <tr style=\"text-align: right;\">\n",
              "      <th></th>\n",
              "      <th>Latitude</th>\n",
              "      <th>Longitude</th>\n",
              "      <th>Area</th>\n",
              "      <th>Testada</th>\n",
              "      <th>Oferta/Trans</th>\n",
              "      <th>Esq-SN</th>\n",
              "      <th>Renda Media Domic</th>\n",
              "      <th>Valor Unitario</th>\n",
              "    </tr>\n",
              "  </thead>\n",
              "  <tbody>\n",
              "    <tr>\n",
              "      <th>0</th>\n",
              "      <td>-3.738982</td>\n",
              "      <td>-38.554722</td>\n",
              "      <td>108.0</td>\n",
              "      <td>4.50000</td>\n",
              "      <td>1</td>\n",
              "      <td>1</td>\n",
              "      <td>2468.55</td>\n",
              "      <td>1666.67</td>\n",
              "    </tr>\n",
              "    <tr>\n",
              "      <th>1</th>\n",
              "      <td>-3.798333</td>\n",
              "      <td>-38.538889</td>\n",
              "      <td>156.0</td>\n",
              "      <td>6.00000</td>\n",
              "      <td>2</td>\n",
              "      <td>1</td>\n",
              "      <td>3575.48</td>\n",
              "      <td>846.15</td>\n",
              "    </tr>\n",
              "    <tr>\n",
              "      <th>2</th>\n",
              "      <td>-3.835833</td>\n",
              "      <td>-38.587778</td>\n",
              "      <td>168.0</td>\n",
              "      <td>6.00000</td>\n",
              "      <td>2</td>\n",
              "      <td>1</td>\n",
              "      <td>1186.33</td>\n",
              "      <td>892.86</td>\n",
              "    </tr>\n",
              "    <tr>\n",
              "      <th>3</th>\n",
              "      <td>-3.736248</td>\n",
              "      <td>-38.556050</td>\n",
              "      <td>200.0</td>\n",
              "      <td>7.00000</td>\n",
              "      <td>1</td>\n",
              "      <td>1</td>\n",
              "      <td>3379.20</td>\n",
              "      <td>1125.00</td>\n",
              "    </tr>\n",
              "    <tr>\n",
              "      <th>4</th>\n",
              "      <td>-3.819016</td>\n",
              "      <td>-38.555054</td>\n",
              "      <td>200.0</td>\n",
              "      <td>8.00000</td>\n",
              "      <td>2</td>\n",
              "      <td>1</td>\n",
              "      <td>3069.60</td>\n",
              "      <td>740.00</td>\n",
              "    </tr>\n",
              "    <tr>\n",
              "      <th>...</th>\n",
              "      <td>...</td>\n",
              "      <td>...</td>\n",
              "      <td>...</td>\n",
              "      <td>...</td>\n",
              "      <td>...</td>\n",
              "      <td>...</td>\n",
              "      <td>...</td>\n",
              "      <td>...</td>\n",
              "    </tr>\n",
              "    <tr>\n",
              "      <th>99</th>\n",
              "      <td>-3.864366</td>\n",
              "      <td>-38.486186</td>\n",
              "      <td>14904.0</td>\n",
              "      <td>122.08194</td>\n",
              "      <td>2</td>\n",
              "      <td>2</td>\n",
              "      <td>953.23</td>\n",
              "      <td>100.64</td>\n",
              "    </tr>\n",
              "    <tr>\n",
              "      <th>100</th>\n",
              "      <td>-3.850029</td>\n",
              "      <td>-38.504641</td>\n",
              "      <td>16236.0</td>\n",
              "      <td>33.00000</td>\n",
              "      <td>1</td>\n",
              "      <td>1</td>\n",
              "      <td>1113.58</td>\n",
              "      <td>172.46</td>\n",
              "    </tr>\n",
              "    <tr>\n",
              "      <th>101</th>\n",
              "      <td>-3.832522</td>\n",
              "      <td>-38.582604</td>\n",
              "      <td>16532.0</td>\n",
              "      <td>133.00000</td>\n",
              "      <td>2</td>\n",
              "      <td>2</td>\n",
              "      <td>1082.50</td>\n",
              "      <td>211.71</td>\n",
              "    </tr>\n",
              "    <tr>\n",
              "      <th>102</th>\n",
              "      <td>-3.822003</td>\n",
              "      <td>-38.577955</td>\n",
              "      <td>29500.0</td>\n",
              "      <td>110.00000</td>\n",
              "      <td>2</td>\n",
              "      <td>2</td>\n",
              "      <td>732.72</td>\n",
              "      <td>328.81</td>\n",
              "    </tr>\n",
              "    <tr>\n",
              "      <th>103</th>\n",
              "      <td>-3.867639</td>\n",
              "      <td>-38.512500</td>\n",
              "      <td>36000.0</td>\n",
              "      <td>189.73666</td>\n",
              "      <td>2</td>\n",
              "      <td>1</td>\n",
              "      <td>1323.18</td>\n",
              "      <td>400.00</td>\n",
              "    </tr>\n",
              "  </tbody>\n",
              "</table>\n",
              "<p>104 rows × 8 columns</p>\n",
              "</div>"
            ],
            "text/plain": [
              "     Latitude  Longitude     Area  ...  Esq-SN  Renda Media Domic  Valor Unitario\n",
              "0   -3.738982 -38.554722    108.0  ...       1            2468.55         1666.67\n",
              "1   -3.798333 -38.538889    156.0  ...       1            3575.48          846.15\n",
              "2   -3.835833 -38.587778    168.0  ...       1            1186.33          892.86\n",
              "3   -3.736248 -38.556050    200.0  ...       1            3379.20         1125.00\n",
              "4   -3.819016 -38.555054    200.0  ...       1            3069.60          740.00\n",
              "..        ...        ...      ...  ...     ...                ...             ...\n",
              "99  -3.864366 -38.486186  14904.0  ...       2             953.23          100.64\n",
              "100 -3.850029 -38.504641  16236.0  ...       1            1113.58          172.46\n",
              "101 -3.832522 -38.582604  16532.0  ...       2            1082.50          211.71\n",
              "102 -3.822003 -38.577955  29500.0  ...       2             732.72          328.81\n",
              "103 -3.867639 -38.512500  36000.0  ...       1            1323.18          400.00\n",
              "\n",
              "[104 rows x 8 columns]"
            ]
          },
          "metadata": {
            "tags": []
          },
          "execution_count": 22
        }
      ]
    },
    {
      "cell_type": "code",
      "metadata": {
        "id": "wcWveLSnQ5rP"
      },
      "source": [
        "#df=df.drop(['Endereço','Bairro'],axis=1)\r\n",
        "#df\r\n",
        "y=df['Valor Unitario'].values"
      ],
      "execution_count": 23,
      "outputs": []
    },
    {
      "cell_type": "markdown",
      "metadata": {
        "id": "SQncnB8XdmLW"
      },
      "source": [
        "##Faz uma EAD (Análise Exploratória dos dados) inicial"
      ]
    },
    {
      "cell_type": "code",
      "metadata": {
        "id": "A6X2ftuxvJGg"
      },
      "source": [
        "#profile = ProfileReport(df)\n",
        "#profile.to_notebook_iframe()\n"
      ],
      "execution_count": 24,
      "outputs": []
    },
    {
      "cell_type": "markdown",
      "metadata": {
        "id": "T7nCRTJKdvV8"
      },
      "source": [
        "##Localiza e elimina valores nulos"
      ]
    },
    {
      "cell_type": "code",
      "metadata": {
        "id": "1oeZhy-fc-_-",
        "colab": {
          "base_uri": "https://localhost:8080/"
        },
        "outputId": "3cd23c05-b84c-48c7-df6d-1f45b59392ad"
      },
      "source": [
        "df.dropna(axis=0,inplace=True)\n",
        "df.isnull().sum()"
      ],
      "execution_count": 25,
      "outputs": [
        {
          "output_type": "execute_result",
          "data": {
            "text/plain": [
              "Latitude             0\n",
              "Longitude            0\n",
              "Area                 0\n",
              "Testada              0\n",
              "Oferta/Trans         0\n",
              "Esq-SN               0\n",
              "Renda Media Domic    0\n",
              "Valor Unitario       0\n",
              "dtype: int64"
            ]
          },
          "metadata": {
            "tags": []
          },
          "execution_count": 25
        }
      ]
    },
    {
      "cell_type": "markdown",
      "metadata": {
        "id": "REvuLEo6EAaY"
      },
      "source": [
        "##Faz a detecção automática e elimina os outliers com o método Local Outlier Factor\n"
      ]
    },
    {
      "cell_type": "code",
      "metadata": {
        "id": "onN_GisoRGlX"
      },
      "source": [
        "# identify outliers in the training dataset\n",
        "lof = LocalOutlierFactor()\n",
        "\n",
        "colunas = df.columns\n",
        "df=df.values\n",
        "\n",
        "yhat = lof.fit_predict(df)\n",
        "# select all rows that are not outliers\n",
        "mask = yhat != -1\n",
        "df, y = df[mask, :], y[mask]\n",
        "# summarize the shape of the updated training dataset\n",
        "print(df.shape, y.shape)\n",
        "\n",
        "df=pd.DataFrame(df)\n",
        "df.columns = colunas"
      ],
      "execution_count": null,
      "outputs": []
    },
    {
      "cell_type": "markdown",
      "metadata": {
        "id": "6Xc5dx6DeMOb"
      },
      "source": [
        "##Faz nova EAD para verificar a redução dos outliers"
      ]
    },
    {
      "cell_type": "code",
      "metadata": {
        "id": "dNPK5LqmqrjL"
      },
      "source": [
        "#profile = ProfileReport(df)\n",
        "#profile.to_notebook_iframe()\n"
      ],
      "execution_count": 26,
      "outputs": []
    },
    {
      "cell_type": "markdown",
      "metadata": {
        "id": "L1KpKPkreYZ3"
      },
      "source": [
        "##Identifica e elimina os atributos que possuem alta correlação entre si"
      ]
    },
    {
      "cell_type": "code",
      "metadata": {
        "id": "5ZG2WO8ExyRL"
      },
      "source": [
        "#Identify Highly Correlated Features\n",
        "# Create correlation matrix\n",
        "corr_matrix = df.corr().abs()\n",
        "\n",
        "# Select upper triangle of correlation matrix\n",
        "upper = corr_matrix.where(np.triu(np.ones(corr_matrix.shape), k=1).astype(np.bool))\n",
        "\n",
        "# Find index of feature columns with correlation greater than 0.80\n",
        "to_drop = [column for column in upper.columns if any(upper[column] > 0.80)]\n",
        "#Drop Marked Features\n",
        "# Drop features \n",
        "df.drop(df[to_drop], axis=1,inplace=True)\n",
        "df"
      ],
      "execution_count": null,
      "outputs": []
    },
    {
      "cell_type": "markdown",
      "metadata": {
        "id": "-5z-N-dBevIP"
      },
      "source": [
        "##Equipara os atributos do imóvel avaliando aos atributos do dataframe"
      ]
    },
    {
      "cell_type": "code",
      "metadata": {
        "colab": {
          "base_uri": "https://localhost:8080/",
          "height": 77
        },
        "id": "MMe5ftPgx37a",
        "outputId": "4573773a-9310-4a39-8677-66d417c22151"
      },
      "source": [
        "x_imovel.drop(x_imovel[to_drop], axis=1,inplace=True)\n",
        "\n",
        "x_imovel"
      ],
      "execution_count": 27,
      "outputs": [
        {
          "output_type": "execute_result",
          "data": {
            "text/html": [
              "<div>\n",
              "<style scoped>\n",
              "    .dataframe tbody tr th:only-of-type {\n",
              "        vertical-align: middle;\n",
              "    }\n",
              "\n",
              "    .dataframe tbody tr th {\n",
              "        vertical-align: top;\n",
              "    }\n",
              "\n",
              "    .dataframe thead th {\n",
              "        text-align: right;\n",
              "    }\n",
              "</style>\n",
              "<table border=\"1\" class=\"dataframe\">\n",
              "  <thead>\n",
              "    <tr style=\"text-align: right;\">\n",
              "      <th></th>\n",
              "      <th>Latitude</th>\n",
              "      <th>Longitude</th>\n",
              "      <th>Area</th>\n",
              "      <th>Testada</th>\n",
              "      <th>Oferta/Trans</th>\n",
              "      <th>Esq-SN</th>\n",
              "      <th>Renda Media Domic</th>\n",
              "      <th>Valor Unitario</th>\n",
              "    </tr>\n",
              "  </thead>\n",
              "  <tbody>\n",
              "    <tr>\n",
              "      <th>0</th>\n",
              "      <td>-3.7948</td>\n",
              "      <td>-38.469985</td>\n",
              "      <td>3200</td>\n",
              "      <td>80</td>\n",
              "      <td>1</td>\n",
              "      <td>2</td>\n",
              "      <td>1902</td>\n",
              "      <td>1666</td>\n",
              "    </tr>\n",
              "  </tbody>\n",
              "</table>\n",
              "</div>"
            ],
            "text/plain": [
              "   Latitude  Longitude  Area  ...  Esq-SN  Renda Media Domic  Valor Unitario\n",
              "0   -3.7948 -38.469985  3200  ...       2               1902            1666\n",
              "\n",
              "[1 rows x 8 columns]"
            ]
          },
          "metadata": {
            "tags": []
          },
          "execution_count": 27
        }
      ]
    },
    {
      "cell_type": "markdown",
      "metadata": {
        "id": "f_xscaHKZOnx"
      },
      "source": [
        "##Separa os dados em dados de treino e teste"
      ]
    },
    {
      "cell_type": "code",
      "metadata": {
        "id": "RTAShUX5ZXvw"
      },
      "source": [
        "x_train, x_test, y_train, y_test = train_test_split(df.drop(['Valor Unitario'],axis=1), y, test_size = 0.3,random_state = 0)\n"
      ],
      "execution_count": 28,
      "outputs": []
    },
    {
      "cell_type": "markdown",
      "metadata": {
        "id": "EBn8GKsodPf1"
      },
      "source": [
        "##Cria uma função que treina e calcula os scores para cada modelo utilizado"
      ]
    },
    {
      "cell_type": "code",
      "metadata": {
        "id": "gUmshIaxbn9k"
      },
      "source": [
        "\n",
        "def treina(name,model):\n",
        "  model.fit(x_train, y_train)\n",
        "  yhat = model.predict(x_test)\n",
        "\n",
        "  mae = mean_absolute_error(y_test, yhat)\n",
        "  r2=r2_score(y_test,yhat)\n",
        "  y_imovel = model.predict(x_imovel)\n",
        "\n",
        "  scores = [name,mae,r2,y_imovel]\n",
        "  score_map.append(scores)\n"
      ],
      "execution_count": 29,
      "outputs": []
    },
    {
      "cell_type": "markdown",
      "metadata": {
        "id": "6zrSzuUOfNhT"
      },
      "source": [
        "##Define os modelos que serão empregados e faz um loop na função acima para cada modelo e em seguida mostra os scores obtidos para cada um"
      ]
    },
    {
      "cell_type": "code",
      "metadata": {
        "colab": {
          "base_uri": "https://localhost:8080/",
          "height": 387
        },
        "id": "m4mweQ1U6T_P",
        "outputId": "a198eb54-ea3f-4f21-afc7-aaf26903708a"
      },
      "source": [
        "models = [('L.Regression',LinearRegression()),('R.Forest',RandomForestRegressor()),('KNN', \n",
        "      KNeighborsRegressor()),('D. Tree', DecisionTreeRegressor()),('G.B.Regression' , GradientBoostingRegressor())]\n",
        "\n",
        "score_map=[]\n",
        "colunas = ['Model','mae','R2','Valor Unitario']\n",
        "\n",
        "score_map.append(colunas)\n",
        "\n",
        "for name, model in models:\n",
        "  #print(name,model)\n",
        "  treina(name,model)\n",
        "\n",
        "\n",
        "score_map = pd.DataFrame(score_map[1:], columns=score_map[0])\n",
        "best_mae_map = score_map.sort_values(by=['mae'],ascending=True)\n",
        "best_mae_map\n",
        "best_r2_map = score_map.sort_values(by=['R2'],ascending=False)\n",
        "best_r2_map"
      ],
      "execution_count": 30,
      "outputs": [
        {
          "output_type": "error",
          "ename": "ValueError",
          "evalue": "ignored",
          "traceback": [
            "\u001b[0;31m---------------------------------------------------------------------------\u001b[0m",
            "\u001b[0;31mValueError\u001b[0m                                Traceback (most recent call last)",
            "\u001b[0;32m<ipython-input-30-b6e9c2258b36>\u001b[0m in \u001b[0;36m<module>\u001b[0;34m()\u001b[0m\n\u001b[1;32m      9\u001b[0m \u001b[0;32mfor\u001b[0m \u001b[0mname\u001b[0m\u001b[0;34m,\u001b[0m \u001b[0mmodel\u001b[0m \u001b[0;32min\u001b[0m \u001b[0mmodels\u001b[0m\u001b[0;34m:\u001b[0m\u001b[0;34m\u001b[0m\u001b[0;34m\u001b[0m\u001b[0m\n\u001b[1;32m     10\u001b[0m   \u001b[0;31m#print(name,model)\u001b[0m\u001b[0;34m\u001b[0m\u001b[0;34m\u001b[0m\u001b[0;34m\u001b[0m\u001b[0m\n\u001b[0;32m---> 11\u001b[0;31m   \u001b[0mtreina\u001b[0m\u001b[0;34m(\u001b[0m\u001b[0mname\u001b[0m\u001b[0;34m,\u001b[0m\u001b[0mmodel\u001b[0m\u001b[0;34m)\u001b[0m\u001b[0;34m\u001b[0m\u001b[0;34m\u001b[0m\u001b[0m\n\u001b[0m\u001b[1;32m     12\u001b[0m \u001b[0;34m\u001b[0m\u001b[0m\n\u001b[1;32m     13\u001b[0m \u001b[0;34m\u001b[0m\u001b[0m\n",
            "\u001b[0;32m<ipython-input-29-ac6b369e783c>\u001b[0m in \u001b[0;36mtreina\u001b[0;34m(name, model)\u001b[0m\n\u001b[1;32m      6\u001b[0m   \u001b[0mmae\u001b[0m \u001b[0;34m=\u001b[0m \u001b[0mmean_absolute_error\u001b[0m\u001b[0;34m(\u001b[0m\u001b[0my_test\u001b[0m\u001b[0;34m,\u001b[0m \u001b[0myhat\u001b[0m\u001b[0;34m)\u001b[0m\u001b[0;34m\u001b[0m\u001b[0;34m\u001b[0m\u001b[0m\n\u001b[1;32m      7\u001b[0m   \u001b[0mr2\u001b[0m\u001b[0;34m=\u001b[0m\u001b[0mr2_score\u001b[0m\u001b[0;34m(\u001b[0m\u001b[0my_test\u001b[0m\u001b[0;34m,\u001b[0m\u001b[0myhat\u001b[0m\u001b[0;34m)\u001b[0m\u001b[0;34m\u001b[0m\u001b[0;34m\u001b[0m\u001b[0m\n\u001b[0;32m----> 8\u001b[0;31m   \u001b[0my_imovel\u001b[0m \u001b[0;34m=\u001b[0m \u001b[0mmodel\u001b[0m\u001b[0;34m.\u001b[0m\u001b[0mpredict\u001b[0m\u001b[0;34m(\u001b[0m\u001b[0mx_imovel\u001b[0m\u001b[0;34m)\u001b[0m\u001b[0;34m\u001b[0m\u001b[0;34m\u001b[0m\u001b[0m\n\u001b[0m\u001b[1;32m      9\u001b[0m \u001b[0;34m\u001b[0m\u001b[0m\n\u001b[1;32m     10\u001b[0m   \u001b[0mscores\u001b[0m \u001b[0;34m=\u001b[0m \u001b[0;34m[\u001b[0m\u001b[0mname\u001b[0m\u001b[0;34m,\u001b[0m\u001b[0mmae\u001b[0m\u001b[0;34m,\u001b[0m\u001b[0mr2\u001b[0m\u001b[0;34m,\u001b[0m\u001b[0my_imovel\u001b[0m\u001b[0;34m]\u001b[0m\u001b[0;34m\u001b[0m\u001b[0;34m\u001b[0m\u001b[0m\n",
            "\u001b[0;32m/usr/local/lib/python3.6/dist-packages/sklearn/linear_model/_base.py\u001b[0m in \u001b[0;36mpredict\u001b[0;34m(self, X)\u001b[0m\n\u001b[1;32m    223\u001b[0m             \u001b[0mReturns\u001b[0m \u001b[0mpredicted\u001b[0m \u001b[0mvalues\u001b[0m\u001b[0;34m.\u001b[0m\u001b[0;34m\u001b[0m\u001b[0;34m\u001b[0m\u001b[0m\n\u001b[1;32m    224\u001b[0m         \"\"\"\n\u001b[0;32m--> 225\u001b[0;31m         \u001b[0;32mreturn\u001b[0m \u001b[0mself\u001b[0m\u001b[0;34m.\u001b[0m\u001b[0m_decision_function\u001b[0m\u001b[0;34m(\u001b[0m\u001b[0mX\u001b[0m\u001b[0;34m)\u001b[0m\u001b[0;34m\u001b[0m\u001b[0;34m\u001b[0m\u001b[0m\n\u001b[0m\u001b[1;32m    226\u001b[0m \u001b[0;34m\u001b[0m\u001b[0m\n\u001b[1;32m    227\u001b[0m     \u001b[0m_preprocess_data\u001b[0m \u001b[0;34m=\u001b[0m \u001b[0mstaticmethod\u001b[0m\u001b[0;34m(\u001b[0m\u001b[0m_preprocess_data\u001b[0m\u001b[0;34m)\u001b[0m\u001b[0;34m\u001b[0m\u001b[0;34m\u001b[0m\u001b[0m\n",
            "\u001b[0;32m/usr/local/lib/python3.6/dist-packages/sklearn/linear_model/_base.py\u001b[0m in \u001b[0;36m_decision_function\u001b[0;34m(self, X)\u001b[0m\n\u001b[1;32m    207\u001b[0m         \u001b[0mX\u001b[0m \u001b[0;34m=\u001b[0m \u001b[0mcheck_array\u001b[0m\u001b[0;34m(\u001b[0m\u001b[0mX\u001b[0m\u001b[0;34m,\u001b[0m \u001b[0maccept_sparse\u001b[0m\u001b[0;34m=\u001b[0m\u001b[0;34m[\u001b[0m\u001b[0;34m'csr'\u001b[0m\u001b[0;34m,\u001b[0m \u001b[0;34m'csc'\u001b[0m\u001b[0;34m,\u001b[0m \u001b[0;34m'coo'\u001b[0m\u001b[0;34m]\u001b[0m\u001b[0;34m)\u001b[0m\u001b[0;34m\u001b[0m\u001b[0;34m\u001b[0m\u001b[0m\n\u001b[1;32m    208\u001b[0m         return safe_sparse_dot(X, self.coef_.T,\n\u001b[0;32m--> 209\u001b[0;31m                                dense_output=True) + self.intercept_\n\u001b[0m\u001b[1;32m    210\u001b[0m \u001b[0;34m\u001b[0m\u001b[0m\n\u001b[1;32m    211\u001b[0m     \u001b[0;32mdef\u001b[0m \u001b[0mpredict\u001b[0m\u001b[0;34m(\u001b[0m\u001b[0mself\u001b[0m\u001b[0;34m,\u001b[0m \u001b[0mX\u001b[0m\u001b[0;34m)\u001b[0m\u001b[0;34m:\u001b[0m\u001b[0;34m\u001b[0m\u001b[0;34m\u001b[0m\u001b[0m\n",
            "\u001b[0;32m/usr/local/lib/python3.6/dist-packages/sklearn/utils/extmath.py\u001b[0m in \u001b[0;36msafe_sparse_dot\u001b[0;34m(a, b, dense_output)\u001b[0m\n\u001b[1;32m    149\u001b[0m             \u001b[0mret\u001b[0m \u001b[0;34m=\u001b[0m \u001b[0mnp\u001b[0m\u001b[0;34m.\u001b[0m\u001b[0mdot\u001b[0m\u001b[0;34m(\u001b[0m\u001b[0ma\u001b[0m\u001b[0;34m,\u001b[0m \u001b[0mb\u001b[0m\u001b[0;34m)\u001b[0m\u001b[0;34m\u001b[0m\u001b[0;34m\u001b[0m\u001b[0m\n\u001b[1;32m    150\u001b[0m     \u001b[0;32melse\u001b[0m\u001b[0;34m:\u001b[0m\u001b[0;34m\u001b[0m\u001b[0;34m\u001b[0m\u001b[0m\n\u001b[0;32m--> 151\u001b[0;31m         \u001b[0mret\u001b[0m \u001b[0;34m=\u001b[0m \u001b[0ma\u001b[0m \u001b[0;34m@\u001b[0m \u001b[0mb\u001b[0m\u001b[0;34m\u001b[0m\u001b[0;34m\u001b[0m\u001b[0m\n\u001b[0m\u001b[1;32m    152\u001b[0m \u001b[0;34m\u001b[0m\u001b[0m\n\u001b[1;32m    153\u001b[0m     if (sparse.issparse(a) and sparse.issparse(b)\n",
            "\u001b[0;31mValueError\u001b[0m: matmul: Input operand 1 has a mismatch in its core dimension 0, with gufunc signature (n?,k),(k,m?)->(n?,m?) (size 7 is different from 8)"
          ]
        }
      ]
    },
    {
      "cell_type": "code",
      "metadata": {
        "id": "RxhRphpD46i9"
      },
      "source": [
        ""
      ],
      "execution_count": null,
      "outputs": []
    },
    {
      "cell_type": "markdown",
      "metadata": {
        "id": "fCnxRlyBfxdS"
      },
      "source": [
        "##Mostra o gráfico com os scores "
      ]
    },
    {
      "cell_type": "code",
      "metadata": {
        "id": "ShGjzsODkgBc"
      },
      "source": [
        "\n",
        "sns.factorplot(\"Model\", \"R2\", col=\"mae\", data=score_map, kind=\"bar\");\n"
      ],
      "execution_count": null,
      "outputs": []
    },
    {
      "cell_type": "markdown",
      "metadata": {
        "id": "OEugbgGqgpbw"
      },
      "source": [
        "##Para este caso, tanto para a métrica R2 como para a métrica MAE, a melhor performance foi obtida com o modelo Random Forest"
      ]
    },
    {
      "cell_type": "code",
      "metadata": {
        "id": "Q_XYzG0RhXMs"
      },
      "source": [
        "best_row = score_map.loc[score_map['Model']=='R.Forest']\n",
        "best_Valor_Unit = best_row['Valor Unitario']\n",
        "best_Valor_Unit\n",
        "best_y_imovel = x_imovel['Area']*best_Valor_Unit.values\n",
        "\n",
        "print(\"Valor Unitário: %6.0f\"% (best_Valor_Unit))\n",
        "print(\"Valor do imóvel: %6.0f\"% (best_y_imovel))\n",
        "\n",
        "\n",
        "\n"
      ],
      "execution_count": null,
      "outputs": []
    },
    {
      "cell_type": "markdown",
      "metadata": {
        "id": "FTg8UpcrkrWd"
      },
      "source": [
        "##Compara o valor obtido acima com o modelo de autoML h2o"
      ]
    },
    {
      "cell_type": "code",
      "metadata": {
        "id": "y3KhMu8g8X7Y"
      },
      "source": [
        "\n",
        "df_h2o = h2o.H2OFrame(df)\n",
        "x_imovel_h20 = h2o.H2OFrame(x_imovel)\n",
        "df_h2o"
      ],
      "execution_count": null,
      "outputs": []
    },
    {
      "cell_type": "code",
      "metadata": {
        "id": "1aRTgjtvgN-v"
      },
      "source": [
        "splits = df_h2o.split_frame(ratios = [0.7], seed = 0)\n",
        "train = splits[0]\n",
        "test = splits[1]\n",
        "\n"
      ],
      "execution_count": null,
      "outputs": []
    },
    {
      "cell_type": "code",
      "metadata": {
        "id": "ImaXyqDC8YFl"
      },
      "source": [
        "y='Valor Unitario'\n",
        "\n"
      ],
      "execution_count": null,
      "outputs": []
    },
    {
      "cell_type": "markdown",
      "metadata": {
        "id": "v9Y47XSTIEDR"
      },
      "source": [
        "Run AutoML\n",
        "Run AutoML, stopping after 60 seconds. The max_runtime_secs argument provides a way to limit the AutoML run by time. When using a time-limited stopping criterion, the number of models train will vary between runs. If different hardware is used or even if the same machine is used but the available compute resources on that machine are not the same between runs, then AutoML may be able to train more models on one run vs another.\n",
        "The test frame is passed explicitly to the leaderboard_frame argument here, which means that instead of using cross-validated metrics, we use test set metrics for generating the leaderboard."
      ]
    },
    {
      "cell_type": "code",
      "metadata": {
        "id": "nOBDYHUegUd8"
      },
      "source": [
        "#aml = H2OAutoML(max_runtime_secs = 60, seed = 1, project_name = \"House\")\n",
        "#aml.train(y = y, training_frame = train, leaderboard_frame = test)"
      ],
      "execution_count": null,
      "outputs": []
    },
    {
      "cell_type": "markdown",
      "metadata": {
        "id": "QkTaomPrIFkS"
      },
      "source": [
        "For demonstration purposes, we will also execute a second AutoML run, this time providing the original, full dataset, df (without passing a leaderboard_frame). This is a more efficient use of our data since we can use 100% of the data for training, rather than 80% like we did above. This time our leaderboard will use cross-validated metrics.\n",
        "Note: Using an explicit leaderboard_frame for scoring may be useful in some cases, which is why the option is available."
      ]
    },
    {
      "cell_type": "code",
      "metadata": {
        "id": "zsJ3B34diBJQ"
      },
      "source": [
        "aml2 = H2OAutoML(max_runtime_secs = 60, seed = 1, project_name = \"House\")\n",
        "aml2.train(y = y, training_frame = df_h2o)"
      ],
      "execution_count": null,
      "outputs": []
    },
    {
      "cell_type": "markdown",
      "metadata": {
        "id": "67EiZEN4Ighd"
      },
      "source": [
        "Leaderboard\n",
        "Next, we will view the AutoML Leaderboard. Since we specified a leaderboard_frame in the H2OAutoML.train() method for scoring and ranking the models, the AutoML leaderboard uses the performance on this data to rank the models.\n",
        "After viewing the \"powerplant_lb_frame\" AutoML project leaderboard, we compare that to the leaderboard for the \"powerplant_full_data\" project. We can see that the results are better when the full dataset is used for training.\n",
        "A default performance metric for each machine learning task (binary classification, multiclass classification, regression) is specified internally and the leaderboard will be sorted by that metric. In the case of regression, the default ranking metric is mean residual deviance. In the future, the user will be able to specify any of the H2O metrics so that different metrics can be used to generate rankings on the leaderboard."
      ]
    },
    {
      "cell_type": "markdown",
      "metadata": {
        "id": "-g6N9RNMIo_u"
      },
      "source": [
        "Now we will view a snapshot of the top models. Here we should see the two Stacked Ensembles at or near the top of the leaderboard. Stacked Ensembles can almost always outperform a single model"
      ]
    },
    {
      "cell_type": "code",
      "metadata": {
        "id": "KC0j0O0AiQut"
      },
      "source": [
        "aml2.leaderboard.head()"
      ],
      "execution_count": null,
      "outputs": []
    },
    {
      "cell_type": "code",
      "metadata": {
        "id": "qVT8-9s_3OQ1"
      },
      "source": [
        "# To see best parameters\n",
        "aml2.leader.params\n",
        "#aml2.leader.params.keys()\n",
        "#aml2.leader.params['metalearner_algorithm']"
      ],
      "execution_count": null,
      "outputs": []
    },
    {
      "cell_type": "markdown",
      "metadata": {
        "id": "QypfIt7iIywI"
      },
      "source": [
        "Predict Using Leader Model\n",
        "If you need to generate predictions on a test set, you can make predictions on the \"H2OAutoML\" object directly, or on the leader model object."
      ]
    },
    {
      "cell_type": "code",
      "metadata": {
        "id": "rOXEnkV_iagL"
      },
      "source": [
        "\n",
        "pred = aml2.predict(test)\n",
        "pred.head()"
      ],
      "execution_count": null,
      "outputs": []
    },
    {
      "cell_type": "markdown",
      "metadata": {
        "id": "Z2bnaChRI2LA"
      },
      "source": [
        "If needed, the standard model_performance() method can be applied to the AutoML leader model and a test set to generate an H2O model performance object."
      ]
    },
    {
      "cell_type": "code",
      "metadata": {
        "id": "fnUt6mpQI6Vy"
      },
      "source": [
        "test"
      ],
      "execution_count": null,
      "outputs": []
    },
    {
      "cell_type": "code",
      "metadata": {
        "id": "NhsJ-Rc8ihMX"
      },
      "source": [
        "\n",
        "perf = aml2.leader.model_performance(test)\n",
        "perf"
      ],
      "execution_count": null,
      "outputs": []
    },
    {
      "cell_type": "code",
      "metadata": {
        "id": "Bzh6EKJfjOl1"
      },
      "source": [
        "resultados=test\n",
        "resultados['Vlr_prev']=pred"
      ],
      "execution_count": null,
      "outputs": []
    },
    {
      "cell_type": "code",
      "metadata": {
        "id": "atM88OFjjae1"
      },
      "source": [
        "resultados"
      ],
      "execution_count": null,
      "outputs": []
    },
    {
      "cell_type": "code",
      "metadata": {
        "id": "1eQao_p3mncp"
      },
      "source": [
        "\n",
        "x_imovel_h20"
      ],
      "execution_count": null,
      "outputs": []
    },
    {
      "cell_type": "code",
      "metadata": {
        "id": "nNyLSsZGmuxI"
      },
      "source": [
        "y_imovel = aml2.predict(x_imovel_h20)\n",
        "y_imovel"
      ],
      "execution_count": null,
      "outputs": []
    },
    {
      "cell_type": "code",
      "metadata": {
        "id": "pwf64DNiG5G1"
      },
      "source": [
        "\n",
        "\n",
        "print(\"Valor Unitário: %6.0f\"% (y_imovel.flatten()))\n",
        "\n",
        "print(\"Valor do imóvel: %6.0f\"% (y_imovel.flatten() * x_imovel['Area'][0]))\n",
        "\n"
      ],
      "execution_count": null,
      "outputs": []
    }
  ]
}