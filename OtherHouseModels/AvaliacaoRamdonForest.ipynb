{
 "cells": [
  {
   "cell_type": "markdown",
   "metadata": {},
   "source": [
    "<h3>Introdução</h3> As árvores de decisão deixam você com uma decisão difícil. Uma árvore profunda com muitas folhas superajustará porque cada previsão é proveniente de dados históricos de apenas as poucas casas em sua folha. Mas uma árvore rasa com poucas folhas terá um desempenho ruim porque falha em capturar tantas distinções nos dados brutos. Até as técnicas de modelagem mais sofisticadas da atualidade enfrentam essa tensão entre ajuste e super ajuste. Porém, muitos modelos têm idéias inteligentes que podem levar a um melhor desempenho. Veremos a floresta aleatória como um exemplo. A floresta aleatória usa muitas árvores e faz uma previsão calculando a média das previsões de cada árvore componente. Geralmente, ele tem uma precisão preditiva muito melhor do que uma única árvore de decisão e funciona bem com parâmetros padrão. Se você continuar modelando, poderá aprender mais modelos com desempenho ainda melhor, mas muitos deles são sensíveis a obter os parâmetros certos"
   ]
  },
  {
   "cell_type": "code",
   "execution_count": 3,
   "metadata": {},
   "outputs": [],
   "source": [
    "import pandas as pd\n",
    "    \n",
    "# Load data\n",
    "caminho = './aquiraz.xlsx'\n",
    "dados = pd.read_excel(caminho) \n",
    "# Filter rows with missing values\n",
    "dados = dados.dropna(axis=0)\n",
    "# Choose target and features\n",
    "y = dados.PREC_UNIT\n",
    "variaveis=['AREA_PRIV','OFER_TRANS','Idade','DATA','UNI_PADRAO']\n",
    "X = dados[variaveis]\n",
    "\n",
    "from sklearn.model_selection import train_test_split\n",
    "\n",
    "# split data into training and validation data, for both features and target\n",
    "# The split is based on a random number generator. Supplying a numeric value to\n",
    "# the random_state argument guarantees we get the same split every time we\n",
    "# run this script.\n",
    "train_X, val_X, train_y, val_y = train_test_split(X, y,random_state = 0)"
   ]
  },
  {
   "cell_type": "markdown",
   "metadata": {},
   "source": [
    "Construímos um modelo de floresta aleatória de maneira semelhante à maneira como construímos uma árvore de decisão no scikit-learn - dessa vez usando a classe RandomForestRegressor em vez de DecisionTreeRegressor"
   ]
  },
  {
   "cell_type": "code",
   "execution_count": 4,
   "metadata": {},
   "outputs": [
    {
     "name": "stdout",
     "output_type": "stream",
     "text": [
      "106.94448706692266\n"
     ]
    },
    {
     "name": "stderr",
     "output_type": "stream",
     "text": [
      "C:\\Users\\ffcgo\\Anaconda3\\lib\\site-packages\\sklearn\\ensemble\\forest.py:245: FutureWarning: The default value of n_estimators will change from 10 in version 0.20 to 100 in 0.22.\n",
      "  \"10 in version 0.20 to 100 in 0.22.\", FutureWarning)\n"
     ]
    }
   ],
   "source": [
    "from sklearn.ensemble import RandomForestRegressor\n",
    "from sklearn.metrics import mean_absolute_error\n",
    "\n",
    "forest_model = RandomForestRegressor(random_state=1)\n",
    "forest_model.fit(train_X, train_y)\n",
    "melb_preds = forest_model.predict(val_X)\n",
    "print(mean_absolute_error(val_y, melb_preds))"
   ]
  },
  {
   "cell_type": "markdown",
   "metadata": {},
   "source": [
    "<h3>Conclusion</h3>\n",
    "Provavelmente, há espaço para melhorias adicionais, mas essa é uma grande melhoria em relação ao melhor erro de 116 na árvore de decisão. Existem parâmetros que permitem alterar o desempenho da Floresta Aleatória, assim como alteramos a profundidade máxima da árvore de decisão única. Mas uma das melhores características dos modelos Random Forest é que eles geralmente funcionam razoavelmente, mesmo sem esse ajuste. Você aprenderá em breve o modelo XGBoost, que oferece melhor desempenho quando ajustado com os parâmetros certos (mas que requer alguma habilidade para obter os parâmetros certos do modelo)."
   ]
  }
 ],
 "metadata": {
  "kernelspec": {
   "display_name": "Python 3",
   "language": "python",
   "name": "python3"
  },
  "language_info": {
   "codemirror_mode": {
    "name": "ipython",
    "version": 3
   },
   "file_extension": ".py",
   "mimetype": "text/x-python",
   "name": "python",
   "nbconvert_exporter": "python",
   "pygments_lexer": "ipython3",
   "version": "3.7.3"
  }
 },
 "nbformat": 4,
 "nbformat_minor": 2
}
